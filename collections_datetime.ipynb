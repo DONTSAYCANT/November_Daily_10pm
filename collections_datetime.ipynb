{
  "nbformat": 4,
  "nbformat_minor": 0,
  "metadata": {
    "colab": {
      "name": "collections_datetime.ipynb",
      "provenance": []
    },
    "kernelspec": {
      "name": "python3",
      "display_name": "Python 3"
    },
    "language_info": {
      "name": "python"
    }
  },
  "cells": [
    {
      "cell_type": "code",
      "metadata": {
        "id": "MZY8l4tVyHC_"
      },
      "source": [
        "#https://www.geeksforgeeks.org/python-collections-module/"
      ],
      "execution_count": null,
      "outputs": []
    },
    {
      "cell_type": "code",
      "metadata": {
        "id": "_SX9gpN1y4ZB"
      },
      "source": [
        "#collections\n",
        "\n",
        "#defaultdict\n",
        "#Counter\n",
        "#ChainMap\n",
        "#ordereddict\n",
        "#namedtuple\n",
        "#deque"
      ],
      "execution_count": null,
      "outputs": []
    },
    {
      "cell_type": "code",
      "metadata": {
        "id": "npCOZgqyzhkU"
      },
      "source": [
        "import collections"
      ],
      "execution_count": 1,
      "outputs": []
    },
    {
      "cell_type": "code",
      "metadata": {
        "colab": {
          "base_uri": "https://localhost:8080/"
        },
        "id": "Lr3v1O7Xy4h7",
        "outputId": "98eba471-4d48-472d-8197-dbf6d3fb8655"
      },
      "source": [
        "a = [2,2,3,4,5,6,7,5,6,4,3,2]\n",
        "\n",
        "val = collections.Counter(a)\n",
        "\n",
        "print(val)"
      ],
      "execution_count": 2,
      "outputs": [
        {
          "output_type": "stream",
          "name": "stdout",
          "text": [
            "Counter({2: 3, 3: 2, 4: 2, 5: 2, 6: 2, 7: 1})\n"
          ]
        }
      ]
    },
    {
      "cell_type": "code",
      "metadata": {
        "colab": {
          "base_uri": "https://localhost:8080/"
        },
        "id": "gFuvnuSOy4mF",
        "outputId": "518ea4f5-e060-4b79-c04c-fa639e8ccd4d"
      },
      "source": [
        "#ChainMap\n",
        "\n",
        "a = {1: \"python\", 2:\"java\",3:\"go\"}\n",
        "b = {5: \"javascript\", 10:\"perl\",3:\"go\"}\n",
        "\n",
        "c = collections.ChainMap(a,b)\n",
        "print(c)"
      ],
      "execution_count": 4,
      "outputs": [
        {
          "output_type": "stream",
          "name": "stdout",
          "text": [
            "ChainMap({1: 'python', 2: 'java', 3: 'go'}, {5: 'javascript', 10: 'perl', 3: 'go'})\n"
          ]
        }
      ]
    },
    {
      "cell_type": "code",
      "metadata": {
        "colab": {
          "base_uri": "https://localhost:8080/",
          "height": 227
        },
        "id": "3BPVwdBvy4rL",
        "outputId": "7101003c-2ac5-4d90-aaed-3de4aca2fd96"
      },
      "source": [
        "#Defaultdict\n",
        "\n",
        "a = {}\n",
        "\n",
        "a[1] = \"ssss\"\n",
        "a[2] = \"ffff\"\n",
        "\n",
        "print(a)\n",
        "print(a[0])"
      ],
      "execution_count": 6,
      "outputs": [
        {
          "output_type": "stream",
          "name": "stdout",
          "text": [
            "{1: 'ssss', 2: 'ffff'}\n"
          ]
        },
        {
          "output_type": "error",
          "ename": "KeyError",
          "evalue": "ignored",
          "traceback": [
            "\u001b[0;31m---------------------------------------------------------------------------\u001b[0m",
            "\u001b[0;31mKeyError\u001b[0m                                  Traceback (most recent call last)",
            "\u001b[0;32m<ipython-input-6-f28ed29f98fb>\u001b[0m in \u001b[0;36m<module>\u001b[0;34m()\u001b[0m\n\u001b[1;32m      7\u001b[0m \u001b[0;34m\u001b[0m\u001b[0m\n\u001b[1;32m      8\u001b[0m \u001b[0mprint\u001b[0m\u001b[0;34m(\u001b[0m\u001b[0ma\u001b[0m\u001b[0;34m)\u001b[0m\u001b[0;34m\u001b[0m\u001b[0;34m\u001b[0m\u001b[0m\n\u001b[0;32m----> 9\u001b[0;31m \u001b[0mprint\u001b[0m\u001b[0;34m(\u001b[0m\u001b[0ma\u001b[0m\u001b[0;34m[\u001b[0m\u001b[0;36m0\u001b[0m\u001b[0;34m]\u001b[0m\u001b[0;34m)\u001b[0m\u001b[0;34m\u001b[0m\u001b[0;34m\u001b[0m\u001b[0m\n\u001b[0m",
            "\u001b[0;31mKeyError\u001b[0m: 0"
          ]
        }
      ]
    },
    {
      "cell_type": "code",
      "metadata": {
        "colab": {
          "base_uri": "https://localhost:8080/"
        },
        "id": "qjvykDaiy4vq",
        "outputId": "6fbf158f-19e0-47a6-bd2d-e07b53eb7a53"
      },
      "source": [
        "a = collections.defaultdict(int)\n",
        "\n",
        "print(a)\n",
        "a[1] = \"ssss\"\n",
        "\n",
        "a[2] = \"ffff\"\n",
        "\n",
        "print(a)\n",
        "print(a[3])\n",
        "print(a.items())"
      ],
      "execution_count": 13,
      "outputs": [
        {
          "output_type": "stream",
          "name": "stdout",
          "text": [
            "defaultdict(<class 'int'>, {})\n",
            "defaultdict(<class 'int'>, {1: 'ssss', 2: 'ffff'})\n",
            "0\n",
            "dict_items([(1, 'ssss'), (2, 'ffff'), (3, 0)])\n"
          ]
        }
      ]
    },
    {
      "cell_type": "code",
      "metadata": {
        "colab": {
          "base_uri": "https://localhost:8080/"
        },
        "id": "C6zxutEA1VlA",
        "outputId": "4a2ae2e0-6407-4736-9520-ddb58c58a5b4"
      },
      "source": [
        "a = []\n",
        "\n",
        "a.append(10)\n",
        "a.append(20)\n",
        "\n",
        "print(a)"
      ],
      "execution_count": 14,
      "outputs": [
        {
          "output_type": "stream",
          "name": "stdout",
          "text": [
            "[10, 20]\n"
          ]
        }
      ]
    },
    {
      "cell_type": "code",
      "metadata": {
        "colab": {
          "base_uri": "https://localhost:8080/"
        },
        "id": "bSyuk45V2WNp",
        "outputId": "94a7a00d-786f-4d6d-dc12-b0e64c63c695"
      },
      "source": [
        "a = collections.deque()\n",
        "a.append(20)\n",
        "print(a)\n",
        "a.appendleft(5)\n",
        "print(a)\n",
        "\n",
        "a.pop()\n",
        "print(a)\n",
        "\n",
        "a.popleft()\n",
        "print(a)\n"
      ],
      "execution_count": 18,
      "outputs": [
        {
          "output_type": "stream",
          "name": "stdout",
          "text": [
            "deque([20])\n",
            "deque([5, 20])\n",
            "deque([5])\n",
            "deque([])\n"
          ]
        }
      ]
    },
    {
      "cell_type": "code",
      "metadata": {
        "colab": {
          "base_uri": "https://localhost:8080/"
        },
        "id": "9eu8-sFA2ZCo",
        "outputId": "3f40f7da-575b-4982-ea00-d82c4e19a8e0"
      },
      "source": [
        "a = {}\n",
        "\n",
        "a[1] = \"gggg\"\n",
        "a[2] = \"lllll\"\n",
        "a[3] = \"iiii\"\n",
        "\n",
        "print(a)\n",
        "\n",
        "a.pop(1)\n",
        "\n",
        "print(a)\n",
        "\n",
        "a[1] = \"oooo\"\n",
        "print(a)\n"
      ],
      "execution_count": 23,
      "outputs": [
        {
          "output_type": "stream",
          "name": "stdout",
          "text": [
            "{1: 'gggg', 2: 'lllll', 3: 'iiii'}\n",
            "{2: 'lllll', 3: 'iiii'}\n",
            "{2: 'lllll', 3: 'iiii', 1: 'oooo'}\n"
          ]
        }
      ]
    },
    {
      "cell_type": "code",
      "metadata": {
        "colab": {
          "base_uri": "https://localhost:8080/"
        },
        "id": "JmQt68oz3DzC",
        "outputId": "416ab26c-0f3e-4240-e40a-2e4c04f61c55"
      },
      "source": [
        "a = collections.OrderedDict()\n",
        "\n",
        "a[1] = \"gggg\"\n",
        "a[2] = \"lllll\"\n",
        "a[3] = \"iiii\"\n",
        "\n",
        "print(a)\n",
        "\n",
        "a.pop(1)\n",
        "\n",
        "print(a)\n",
        "\n",
        "a[1] = \"gggg\"\n",
        "print(a)"
      ],
      "execution_count": 26,
      "outputs": [
        {
          "output_type": "stream",
          "name": "stdout",
          "text": [
            "OrderedDict([(1, 'gggg'), (2, 'lllll'), (3, 'iiii')])\n",
            "OrderedDict([(2, 'lllll'), (3, 'iiii')])\n",
            "OrderedDict([(2, 'lllll'), (3, 'iiii'), (1, 'gggg')])\n"
          ]
        }
      ]
    },
    {
      "cell_type": "code",
      "metadata": {
        "colab": {
          "base_uri": "https://localhost:8080/"
        },
        "id": "x1JutYSJ4PFb",
        "outputId": "cb6c7842-e8f7-4486-8d54-5b8cdff7fb9f"
      },
      "source": [
        "from collections import OrderedDict\n",
        " \n",
        " \n",
        "od = OrderedDict()\n",
        "od['a'] = 1\n",
        "od['b'] = 2\n",
        "od['c'] = 3\n",
        "od['d'] = 4\n",
        "   \n",
        "print('Before Deleting')\n",
        "for key, value in od.items():\n",
        "    print(key, value)\n",
        "     \n",
        "# deleting element\n",
        "od.pop('a')\n",
        " \n",
        "# Re-inserting the same\n",
        "od['a'] = 1\n",
        " \n",
        "print('\\nAfter re-inserting')\n",
        "for key, value in od.items():\n",
        "    print(key, value)"
      ],
      "execution_count": 27,
      "outputs": [
        {
          "output_type": "stream",
          "name": "stdout",
          "text": [
            "Before Deleting\n",
            "a 1\n",
            "b 2\n",
            "c 3\n",
            "d 4\n",
            "\n",
            "After re-inserting\n",
            "b 2\n",
            "c 3\n",
            "d 4\n",
            "a 1\n"
          ]
        }
      ]
    },
    {
      "cell_type": "code",
      "metadata": {
        "colab": {
          "base_uri": "https://localhost:8080/"
        },
        "id": "oqncE7PZ3Imv",
        "outputId": "0ec1352a-aba9-4275-c90f-a73841026610"
      },
      "source": [
        "od = {}\n",
        "od['a'] = 1\n",
        "od['b'] = 2\n",
        "od['c'] = 3\n",
        "od['d'] = 4\n",
        "   \n",
        "print('Before Deleting')\n",
        "for key, value in od.items():\n",
        "    print(key, value)\n",
        "     \n",
        "# deleting element\n",
        "od.pop('a')\n",
        " \n",
        "# Re-inserting the same\n",
        "od['a'] = 1\n",
        " \n",
        "print('\\nAfter re-inserting')\n",
        "for key, value in od.items():\n",
        "    print(key, value)"
      ],
      "execution_count": 30,
      "outputs": [
        {
          "output_type": "stream",
          "name": "stdout",
          "text": [
            "Before Deleting\n",
            "a 1\n",
            "b 2\n",
            "c 3\n",
            "d 4\n",
            "\n",
            "After re-inserting\n",
            "b 2\n",
            "c 3\n",
            "d 4\n",
            "a 1\n"
          ]
        }
      ]
    }
  ]
}