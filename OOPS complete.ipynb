{
 "cells": [
  {
   "cell_type": "code",
   "execution_count": null,
   "metadata": {},
   "outputs": [],
   "source": [
    "#https://www.geeksforgeeks.org/python-programming-language/\n",
    "\n",
    "\n",
    "#Object oriented Programming and its advantage\n",
    "#class and object\n",
    "#Attributes and Methods (class and object)\n",
    "#Constructors and Destructors (__init__ and __del__)\n",
    "#self ?\n",
    "#class method vs normal method vs static method\n",
    "#Inheritance and its types\n",
    "\n",
    "\n",
    "\n",
    "#Method Overriding\n",
    "#Super() method\n",
    "#Abstract method and Abstract class\n",
    "#Encapsulation\n",
    "#Polymorphism\n",
    "#Diamond shape probelm\n",
    "\n",
    "\n"
   ]
  },
  {
   "cell_type": "code",
   "execution_count": null,
   "metadata": {},
   "outputs": [],
   "source": [
    "#oops ? advantages ?\n",
    "\n",
    "#Functional programming ==> functions, variables, \n",
    "\n",
    "#Object Oriented programming ==> class and object , Methods and attributes\n",
    "\n",
    "#methods ==>  function inside a class\n",
    "#attribute ==> variable inside a class\n",
    "\n",
    "\n",
    "OOP advantages:\n",
    "    \n",
    "reuse and share  ==> OOPS eg. inheritance \n",
    "Code strucuture/format\n",
    "abstract class\n",
    "Variable \n",
    "private data encapsulation ==> data hiding\n"
   ]
  },
  {
   "cell_type": "code",
   "execution_count": 3,
   "metadata": {},
   "outputs": [
    {
     "name": "stdout",
     "output_type": "stream",
     "text": [
      "<class 'int'>\n"
     ]
    }
   ],
   "source": [
    "a = 10\n",
    "print(type(a))\n",
    "\n",
    "b = 20\n",
    "\n",
    "\n",
    "#class: int\n",
    "#Object: a\n",
    "#object: b"
   ]
  },
  {
   "cell_type": "code",
   "execution_count": null,
   "metadata": {},
   "outputs": [],
   "source": [
    "#class and object ?\n",
    "\n",
    "#School admission \n",
    "\n",
    "#FORM ===> class (Name, Group, Mark)\n",
    "\n",
    "#student1 ==> object1 (mmm, \"biology\", 422)\n",
    "#student2 ==> object2 (dddd, \"maths\", 282)\n",
    "#student3 ==> object3 (hhh, \"commerce\", 300)\n",
    "\n",
    "#Class: Blueprint for object \n",
    "\n",
    "#Object: instantiation of the class"
   ]
  },
  {
   "cell_type": "code",
   "execution_count": null,
   "metadata": {},
   "outputs": [],
   "source": [
    "#How to create an empty:\n",
    "\n",
    "#class creation\n",
    "class Admission:\n",
    "    pass\n",
    "\n",
    "#object creation\n",
    "student1 = Admission()\n",
    "student2 = Admission()\n",
    "student3 = Admission()\n"
   ]
  },
  {
   "cell_type": "code",
   "execution_count": 6,
   "metadata": {},
   "outputs": [
    {
     "name": "stdout",
     "output_type": "stream",
     "text": [
      "KVS High school\n",
      "Coimbatore\n",
      "KVS High school\n",
      "Coimbatore\n",
      "KVS High school\n",
      "Coimbatore\n"
     ]
    }
   ],
   "source": [
    "#class attribute\n",
    "\n",
    "#class creation\n",
    "class Admission:\n",
    "    school_name = \"KVS High school\"\n",
    "    city = \"Coimbatore\"\n",
    "    \n",
    "\n",
    "#object creation\n",
    "student1 = Admission()\n",
    "\n",
    "print(student1.school_name)\n",
    "print(student1.city)\n",
    "\n",
    "\n",
    "student2 = Admission()\n",
    "\n",
    "print(student2.school_name)\n",
    "print(student2.city)\n",
    "\n",
    "student3 = Admission()\n",
    "\n",
    "print(student2.school_name)\n",
    "print(student2.city)"
   ]
  },
  {
   "cell_type": "code",
   "execution_count": 8,
   "metadata": {},
   "outputs": [
    {
     "name": "stdout",
     "output_type": "stream",
     "text": [
      "KVS High school\n",
      "Coimbatore\n",
      "MMM high school\n",
      "Coimbatore\n",
      "MMM high school\n",
      "Coimbatore\n",
      "MMM high school\n",
      "Coimbatore\n"
     ]
    }
   ],
   "source": [
    "#changing class attribute\n",
    "\n",
    "#class creation\n",
    "class Admission:\n",
    "    school_name = \"KVS High school\"\n",
    "    city = \"Coimbatore\"\n",
    "    \n",
    "\n",
    "#object creation\n",
    "student1 = Admission()\n",
    "\n",
    "print(student1.school_name)\n",
    "print(student1.city)\n",
    "\n",
    "#class_name.attribute = <new value>\n",
    "Admission.school_name = \"MMM high school\"\n",
    "\n",
    "student2 = Admission()\n",
    "\n",
    "print(student2.school_name)\n",
    "print(student2.city)\n",
    "\n",
    "student3 = Admission()\n",
    "\n",
    "print(student3.school_name)\n",
    "print(student3.city)\n",
    "\n",
    "print(student1.school_name)\n",
    "print(student1.city)"
   ]
  },
  {
   "cell_type": "code",
   "execution_count": 9,
   "metadata": {},
   "outputs": [
    {
     "name": "stdout",
     "output_type": "stream",
     "text": [
      "KVS High school\n",
      "Coimbatore\n",
      "MMM high school\n",
      "Erode\n",
      "KVS High school\n",
      "Coimbatore\n"
     ]
    }
   ],
   "source": [
    "#changing for specific class\n",
    "\n",
    "class Admission:\n",
    "    school_name = \"KVS High school\"\n",
    "    city = \"Coimbatore\"\n",
    "    \n",
    "\n",
    "#object creation\n",
    "student1 = Admission()\n",
    "\n",
    "print(student1.school_name)\n",
    "print(student1.city)\n",
    "\n",
    "student2 = Admission()\n",
    "\n",
    "student2.school_name = \"MMM high school\"\n",
    "student2.city = \"Erode\"\n",
    "\n",
    "print(student2.school_name)\n",
    "print(student2.city)\n",
    "\n",
    "student3 = Admission()\n",
    "\n",
    "print(student3.school_name)\n",
    "print(student3.city)"
   ]
  },
  {
   "cell_type": "code",
   "execution_count": null,
   "metadata": {},
   "outputs": [],
   "source": [
    "#functional program\n",
    "def Hostel():\n",
    "    return \"Hostel allocated\"\n",
    "\n",
    "print(Hostel())"
   ]
  },
  {
   "cell_type": "code",
   "execution_count": 16,
   "metadata": {},
   "outputs": [
    {
     "name": "stdout",
     "output_type": "stream",
     "text": [
      "KVS High school\n",
      "Coimbatore\n",
      "<__main__.Admission object at 0x0000013FDEE2DC88>\n",
      "Hostel allocated\n",
      "<__main__.Admission object at 0x0000013FDEE2DC88>\n",
      "Hostel allocated\n",
      "<__main__.Admission object at 0x0000013FDEE2DC88>\n",
      "22\n",
      "<__main__.Admission object at 0x0000013FDEE1AD48>\n",
      "Hostel allocated\n"
     ]
    }
   ],
   "source": [
    "#Methods ? ===> function inside the class\n",
    "#class ==> combination of attributes and methods\n",
    "\n",
    "class Admission:\n",
    "    school_name = \"KVS High school\"\n",
    "    city = \"Coimbatore\"\n",
    "    \n",
    "    def Hostel(self):\n",
    "        print(self)\n",
    "        return \"Hostel allocated\"\n",
    "    \n",
    "    def addition(self, arg1, arg2):\n",
    "        print(self)\n",
    "        c = arg1 + arg2\n",
    "        return c\n",
    "    \n",
    "#object creation\n",
    "student1 = Admission()\n",
    "\n",
    "print(student1.school_name)\n",
    "print(student1.city)\n",
    "\n",
    "print(student1.Hostel())\n",
    "#print(Admission.Hostel(student1))\n",
    "\n",
    "#self\n",
    "print(student1.addition(10,12))\n",
    "\n",
    "#self:\n",
    "\n",
    "#self ==> first parameter of any normal method inside the class\n",
    "#self contains object info (from where its getting called)\n",
    "\n",
    "\n",
    "#object creation\n",
    "student2 = Admission()\n",
    "\n",
    "print(student2.Hostel())\n",
    "#print(Admission.Hostel(student1))"
   ]
  },
  {
   "cell_type": "code",
   "execution_count": 11,
   "metadata": {},
   "outputs": [
    {
     "ename": "TypeError",
     "evalue": "Hostel() takes 0 positional arguments but 1 was given",
     "output_type": "error",
     "traceback": [
      "\u001b[1;31m---------------------------------------------------------------------------\u001b[0m",
      "\u001b[1;31mTypeError\u001b[0m                                 Traceback (most recent call last)",
      "\u001b[1;32m<ipython-input-11-21ef5807d571>\u001b[0m in \u001b[0;36m<module>\u001b[1;34m\u001b[0m\n\u001b[0;32m      2\u001b[0m     \u001b[1;32mreturn\u001b[0m \u001b[1;34m\"Hostel allocated\"\u001b[0m\u001b[1;33m\u001b[0m\u001b[1;33m\u001b[0m\u001b[0m\n\u001b[0;32m      3\u001b[0m \u001b[1;33m\u001b[0m\u001b[0m\n\u001b[1;32m----> 4\u001b[1;33m \u001b[0mprint\u001b[0m\u001b[1;33m(\u001b[0m\u001b[0mHostel\u001b[0m\u001b[1;33m(\u001b[0m\u001b[1;34m\"value\"\u001b[0m\u001b[1;33m)\u001b[0m\u001b[1;33m)\u001b[0m\u001b[1;33m\u001b[0m\u001b[1;33m\u001b[0m\u001b[0m\n\u001b[0m",
      "\u001b[1;31mTypeError\u001b[0m: Hostel() takes 0 positional arguments but 1 was given"
     ]
    }
   ],
   "source": [
    "def Hostel():\n",
    "    return \"Hostel allocated\"\n",
    "\n",
    "print(Hostel(\"value\"))"
   ]
  },
  {
   "cell_type": "code",
   "execution_count": 20,
   "metadata": {},
   "outputs": [
    {
     "name": "stdout",
     "output_type": "stream",
     "text": [
      "<__main__.Admission object at 0x0000013FDEE26A08>\n",
      "Hostel allocated\n",
      "<__main__.Admission object at 0x0000013FDEE26A08>\n",
      "300\n"
     ]
    }
   ],
   "source": [
    "class Admission:\n",
    "    school_name = \"KVS High school\"\n",
    "    city = \"Coimbatore\"\n",
    "    \n",
    "    def Hostel(self):\n",
    "        print(self)\n",
    "        return \"Hostel allocated\"\n",
    "    \n",
    "    def addition(self, arg1, arg2):\n",
    "        print(self)\n",
    "        c = arg1 + arg2\n",
    "        return c\n",
    "    \n",
    "student1 = Admission()\n",
    "print(student1.Hostel())\n",
    "print(student1.addition(100,200))"
   ]
  },
  {
   "cell_type": "code",
   "execution_count": 27,
   "metadata": {},
   "outputs": [
    {
     "name": "stdout",
     "output_type": "stream",
     "text": [
      "<__main__.Admission object at 0x0000013FDEF1E5C8>\n",
      "Hostel allocatedforCoimbatore\n",
      "<__main__.Admission object at 0x0000013FDEF1E5C8>\n",
      "<__main__.Admission object at 0x0000013FDEF1E5C8>\n",
      "Hostel allocatedforCoimbatore\n",
      "300\n",
      "KVS High school\n"
     ]
    }
   ],
   "source": [
    "#constructor or __init__\n",
    "\n",
    "class Admission:\n",
    "    school_name = \"KVS High school\"\n",
    "    city = \"Coimbatore\"\n",
    "    \n",
    "    def Hostel(self):\n",
    "        print(self)\n",
    "        return \"Hostel allocated\" + \"for\" + self.city\n",
    "    \n",
    "    def addition(self, arg1, arg2):\n",
    "        print(self)\n",
    "        c = arg1 + arg2\n",
    "        print(self.Hostel())\n",
    "        return c\n",
    "    \n",
    "student1 = Admission()\n",
    "print(student1.Hostel())\n",
    "print(student1.addition(100,200))\n",
    "print(student1.school_name)"
   ]
  },
  {
   "cell_type": "code",
   "execution_count": null,
   "metadata": {},
   "outputs": [],
   "source": [
    "#constuctor: __init__\n",
    "\n",
    "class Admission:\n",
    "    school_name = \"KVS High school\"\n",
    "    city = \"Coimbatore\"\n",
    "    #constructor\n",
    "    def __init__(self, name, group, mark):\n",
    "        self.name = name\n",
    "        self.group = group\n",
    "        self.mark = mark\n",
    "    \n",
    "    def Hostel(self):\n",
    "        print(self)\n",
    "        return \"Hostel allocated\" + \"for\" + self.city\n",
    "    \n",
    "    \n",
    "    \n",
    "#student1 ==> object1 (mmm, \"biology\", 422)\n",
    "#student2 ==> object2 (dddd, \"maths\", 282)\n",
    "#student3 ==> object3 (hhh, \"commerce\", 300)\n",
    "\n",
    "student1 = Admission(\"mmm\", \"biology\", 422)\n",
    "\n",
    "student2 = Admission(\"dddd\", \"maths\", 282)\n",
    "\n",
    "student3 = Admission(\"hhh\", \"commerce\", 300)\n",
    "\n"
   ]
  },
  {
   "cell_type": "code",
   "execution_count": 28,
   "metadata": {},
   "outputs": [],
   "source": [
    "import math"
   ]
  },
  {
   "cell_type": "code",
   "execution_count": 29,
   "metadata": {},
   "outputs": [
    {
     "name": "stdout",
     "output_type": "stream",
     "text": [
      "['__doc__', '__loader__', '__name__', '__package__', '__spec__', 'acos', 'acosh', 'asin', 'asinh', 'atan', 'atan2', 'atanh', 'ceil', 'copysign', 'cos', 'cosh', 'degrees', 'e', 'erf', 'erfc', 'exp', 'expm1', 'fabs', 'factorial', 'floor', 'fmod', 'frexp', 'fsum', 'gamma', 'gcd', 'hypot', 'inf', 'isclose', 'isfinite', 'isinf', 'isnan', 'ldexp', 'lgamma', 'log', 'log10', 'log1p', 'log2', 'modf', 'nan', 'pi', 'pow', 'radians', 'remainder', 'sin', 'sinh', 'sqrt', 'tan', 'tanh', 'tau', 'trunc']\n"
     ]
    }
   ],
   "source": [
    "print(dir(math))\n",
    "#__    ===> super method"
   ]
  },
  {
   "cell_type": "code",
   "execution_count": 37,
   "metadata": {},
   "outputs": [
    {
     "name": "stdout",
     "output_type": "stream",
     "text": [
      "<__main__.Admission object at 0x0000013FDEFCF448>\n",
      "Hostel allocatedforCoimbatore\n",
      "vvv\n",
      "Library\n"
     ]
    }
   ],
   "source": [
    "class Admission:\n",
    "    school_name = \"KVS High school\"\n",
    "    city = \"Coimbatore\"\n",
    "\n",
    "    \n",
    "    def Hostel(self,arg1):\n",
    "        print(self)\n",
    "        self.arg1 = arg1\n",
    "        return \"Hostel allocated\" + \"for\" + self.city\n",
    "    \n",
    "    def Library(self):\n",
    "        print(self.arg1)\n",
    "        return \"Library\"\n",
    "    \n",
    "    \n",
    "student1 = Admission()\n",
    "print(student1.Hostel(\"vvv\"))\n",
    "print(student1.Library())\n"
   ]
  },
  {
   "cell_type": "code",
   "execution_count": 43,
   "metadata": {},
   "outputs": [
    {
     "name": "stdout",
     "output_type": "stream",
     "text": [
      "Library\n",
      "Hostel allocated at Kaveri\n",
      "The group allocated for you is commerce\n",
      "Library\n",
      "Hostel allocated at Yamuna\n",
      "The group allocated for you is bio maths\n"
     ]
    }
   ],
   "source": [
    "class Admission:\n",
    "    school_name = \"KVS High school\"\n",
    "    city = \"Coimbatore\"\n",
    "\n",
    "    def __init__(self,Hostel_name, mark): #constructor\n",
    "        self.Hostel_name = Hostel_name\n",
    "        self.mark = mark\n",
    "    \n",
    "    def Hostel(self):\n",
    "        return \"Hostel allocated\" + \" at \" + self.Hostel_name\n",
    "    \n",
    "    def group_decider(self):\n",
    "        if self.mark > 350:\n",
    "            return \"The group allocated for you is \" + \"bio maths\"\n",
    "        else:\n",
    "            return \"The group allocated for you is \" + \"commerce\"\n",
    "\n",
    "    def Library(self):\n",
    "        return \"Library\"\n",
    "    \n",
    "    \n",
    "student1 = Admission(\"Kaveri\", 300) #object attribute\n",
    "print(student1.Library())\n",
    "print(student1.Hostel())\n",
    "print(student1.group_decider())\n",
    "\n",
    "student2 = Admission(\"Yamuna\", 400)\n",
    "print(student2.Library())\n",
    "print(student2.Hostel())\n",
    "print(student2.group_decider())\n"
   ]
  },
  {
   "cell_type": "code",
   "execution_count": 44,
   "metadata": {},
   "outputs": [
    {
     "name": "stdout",
     "output_type": "stream",
     "text": [
      "Employee created.\n",
      "Destructor called, Employee deleted.\n"
     ]
    }
   ],
   "source": [
    "#destructor:\n",
    "\n",
    "#https://www.geeksforgeeks.org/destructors-in-python/?ref=lbp\n",
    "    \n",
    "# Python program to illustrate destructor\n",
    "class Employee:\n",
    "  \n",
    "    # Initializing\n",
    "    def __init__(self):\n",
    "        print('Employee created.')\n",
    "  \n",
    "    # Deleting (Calling destructor)\n",
    "    def __del__(self):\n",
    "        print('Destructor called, Employee deleted.')\n",
    "  \n",
    "obj = Employee()\n",
    "del obj   "
   ]
  },
  {
   "cell_type": "markdown",
   "metadata": {},
   "source": [
    "## Normal Method vs Class method vs Static method "
   ]
  },
  {
   "cell_type": "code",
   "execution_count": 45,
   "metadata": {},
   "outputs": [
    {
     "name": "stdout",
     "output_type": "stream",
     "text": [
      "Library\n",
      "Hostel allocated at Kaveri\n",
      "The group allocated for you is commerce\n"
     ]
    }
   ],
   "source": [
    "class Admission:\n",
    "    school_name = \"KVS High school\"\n",
    "    city = \"Coimbatore\"\n",
    "\n",
    "    def __init__(self,Hostel_name, mark): #constructor\n",
    "        self.Hostel_name = Hostel_name\n",
    "        self.mark = mark\n",
    "    \n",
    "    def Hostel(self):\n",
    "        return \"Hostel allocated\" + \" at \" + self.Hostel_name\n",
    "    \n",
    "    def group_decider(self):\n",
    "        if self.mark > 350:\n",
    "            return \"The group allocated for you is \" + \"bio maths\"\n",
    "        else:\n",
    "            return \"The group allocated for you is \" + \"commerce\"\n",
    "\n",
    "    def Library(self):\n",
    "        return \"Library\"\n",
    "    \n",
    "    \n",
    "student1 = Admission(\"Kaveri\", 300) #object attribute\n",
    "print(student1.Library())\n",
    "print(student1.Hostel())\n",
    "print(student1.group_decider())\n",
    "\n",
    "#Normal method ==> self first paramter"
   ]
  },
  {
   "cell_type": "code",
   "execution_count": 50,
   "metadata": {},
   "outputs": [
    {
     "name": "stdout",
     "output_type": "stream",
     "text": [
      "please enter your feedback\n"
     ]
    },
    {
     "ename": "NameError",
     "evalue": "name 'self' is not defined",
     "output_type": "error",
     "traceback": [
      "\u001b[1;31m---------------------------------------------------------------------------\u001b[0m",
      "\u001b[1;31mNameError\u001b[0m                                 Traceback (most recent call last)",
      "\u001b[1;32m<ipython-input-50-50c4bf900330>\u001b[0m in \u001b[0;36m<module>\u001b[1;34m\u001b[0m\n\u001b[0;32m     28\u001b[0m \u001b[1;33m\u001b[0m\u001b[0m\n\u001b[0;32m     29\u001b[0m \u001b[0mstudent1\u001b[0m \u001b[1;33m=\u001b[0m \u001b[0mAdmission\u001b[0m\u001b[1;33m(\u001b[0m\u001b[1;34m\"Kaveri\"\u001b[0m\u001b[1;33m,\u001b[0m \u001b[1;36m300\u001b[0m\u001b[1;33m)\u001b[0m \u001b[1;31m#object attribute\u001b[0m\u001b[1;33m\u001b[0m\u001b[1;33m\u001b[0m\u001b[0m\n\u001b[1;32m---> 30\u001b[1;33m \u001b[0mstudent1\u001b[0m\u001b[1;33m.\u001b[0m\u001b[0mFeedBack_form\u001b[0m\u001b[1;33m(\u001b[0m\u001b[1;33m)\u001b[0m\u001b[1;33m\u001b[0m\u001b[1;33m\u001b[0m\u001b[0m\n\u001b[0m\u001b[0;32m     31\u001b[0m \u001b[1;33m\u001b[0m\u001b[0m\n",
      "\u001b[1;32m<ipython-input-50-50c4bf900330>\u001b[0m in \u001b[0;36mFeedBack_form\u001b[1;34m()\u001b[0m\n\u001b[0;32m     24\u001b[0m     \u001b[1;32mdef\u001b[0m \u001b[0mFeedBack_form\u001b[0m\u001b[1;33m(\u001b[0m\u001b[1;33m)\u001b[0m\u001b[1;33m:\u001b[0m\u001b[1;33m\u001b[0m\u001b[1;33m\u001b[0m\u001b[0m\n\u001b[0;32m     25\u001b[0m         \u001b[0mprint\u001b[0m\u001b[1;33m(\u001b[0m\u001b[1;34m\"please enter your feedback\"\u001b[0m\u001b[1;33m)\u001b[0m\u001b[1;33m\u001b[0m\u001b[1;33m\u001b[0m\u001b[0m\n\u001b[1;32m---> 26\u001b[1;33m         \u001b[0mprint\u001b[0m\u001b[1;33m(\u001b[0m\u001b[0mself\u001b[0m\u001b[1;33m.\u001b[0m\u001b[0mschool_name\u001b[0m\u001b[1;33m)\u001b[0m\u001b[1;33m\u001b[0m\u001b[1;33m\u001b[0m\u001b[0m\n\u001b[0m\u001b[0;32m     27\u001b[0m         \u001b[0mprint\u001b[0m\u001b[1;33m(\u001b[0m\u001b[0mself\u001b[0m\u001b[1;33m.\u001b[0m\u001b[0mcity\u001b[0m\u001b[1;33m)\u001b[0m\u001b[1;33m\u001b[0m\u001b[1;33m\u001b[0m\u001b[0m\n\u001b[0;32m     28\u001b[0m \u001b[1;33m\u001b[0m\u001b[0m\n",
      "\u001b[1;31mNameError\u001b[0m: name 'self' is not defined"
     ]
    }
   ],
   "source": [
    "#static method ==> method without self object parameter\n",
    "\n",
    "class Admission:\n",
    "    school_name = \"KVS High school\"\n",
    "    city = \"Coimbatore\"\n",
    "\n",
    "    def __init__(self,Hostel_name, mark): #constructor\n",
    "        self.Hostel_name = Hostel_name\n",
    "        self.mark = mark\n",
    "    \n",
    "    def Hostel(self):\n",
    "        return \"Hostel allocated\" + \" at \" + self.Hostel_name\n",
    "    \n",
    "    def group_decider(self):\n",
    "        if self.mark > 350:\n",
    "            return \"The group allocated for you is \" + \"bio maths\"\n",
    "        else:\n",
    "            return \"The group allocated for you is \" + \"commerce\"\n",
    "\n",
    "    def Library(self):\n",
    "        return \"Library\"\n",
    "\n",
    "    @staticmethod\n",
    "    def FeedBack_form():\n",
    "        print(\"please enter your feedback\")\n",
    "        \n",
    "student1 = Admission(\"Kaveri\", 300) #object attribute\n",
    "student1.FeedBack_form()\n",
    "        "
   ]
  },
  {
   "cell_type": "code",
   "execution_count": 52,
   "metadata": {},
   "outputs": [
    {
     "name": "stdout",
     "output_type": "stream",
     "text": [
      "please enter your feedback\n",
      "KVS High school\n",
      "Coimbatore\n"
     ]
    },
    {
     "ename": "AttributeError",
     "evalue": "type object 'Admission' has no attribute 'Hostel_name'",
     "output_type": "error",
     "traceback": [
      "\u001b[1;31m---------------------------------------------------------------------------\u001b[0m",
      "\u001b[1;31mAttributeError\u001b[0m                            Traceback (most recent call last)",
      "\u001b[1;32m<ipython-input-52-f0325209ab58>\u001b[0m in \u001b[0;36m<module>\u001b[1;34m\u001b[0m\n\u001b[0;32m     27\u001b[0m \u001b[1;33m\u001b[0m\u001b[0m\n\u001b[0;32m     28\u001b[0m \u001b[0mstudent1\u001b[0m \u001b[1;33m=\u001b[0m \u001b[0mAdmission\u001b[0m\u001b[1;33m(\u001b[0m\u001b[1;34m\"Kaveri\"\u001b[0m\u001b[1;33m,\u001b[0m \u001b[1;36m300\u001b[0m\u001b[1;33m)\u001b[0m \u001b[1;31m#object attribute\u001b[0m\u001b[1;33m\u001b[0m\u001b[1;33m\u001b[0m\u001b[0m\n\u001b[1;32m---> 29\u001b[1;33m \u001b[0mstudent1\u001b[0m\u001b[1;33m.\u001b[0m\u001b[0mFeedBack_form\u001b[0m\u001b[1;33m(\u001b[0m\u001b[1;33m)\u001b[0m\u001b[1;33m\u001b[0m\u001b[1;33m\u001b[0m\u001b[0m\n\u001b[0m",
      "\u001b[1;32m<ipython-input-52-f0325209ab58>\u001b[0m in \u001b[0;36mFeedBack_form\u001b[1;34m(self)\u001b[0m\n\u001b[0;32m     24\u001b[0m         \u001b[0mprint\u001b[0m\u001b[1;33m(\u001b[0m\u001b[0mself\u001b[0m\u001b[1;33m.\u001b[0m\u001b[0mschool_name\u001b[0m\u001b[1;33m)\u001b[0m\u001b[1;33m\u001b[0m\u001b[1;33m\u001b[0m\u001b[0m\n\u001b[0;32m     25\u001b[0m         \u001b[0mprint\u001b[0m\u001b[1;33m(\u001b[0m\u001b[0mself\u001b[0m\u001b[1;33m.\u001b[0m\u001b[0mcity\u001b[0m\u001b[1;33m)\u001b[0m\u001b[1;33m\u001b[0m\u001b[1;33m\u001b[0m\u001b[0m\n\u001b[1;32m---> 26\u001b[1;33m         \u001b[0mprint\u001b[0m\u001b[1;33m(\u001b[0m\u001b[0mself\u001b[0m\u001b[1;33m.\u001b[0m\u001b[0mHostel_name\u001b[0m\u001b[1;33m)\u001b[0m\u001b[1;33m\u001b[0m\u001b[1;33m\u001b[0m\u001b[0m\n\u001b[0m\u001b[0;32m     27\u001b[0m \u001b[1;33m\u001b[0m\u001b[0m\n\u001b[0;32m     28\u001b[0m \u001b[0mstudent1\u001b[0m \u001b[1;33m=\u001b[0m \u001b[0mAdmission\u001b[0m\u001b[1;33m(\u001b[0m\u001b[1;34m\"Kaveri\"\u001b[0m\u001b[1;33m,\u001b[0m \u001b[1;36m300\u001b[0m\u001b[1;33m)\u001b[0m \u001b[1;31m#object attribute\u001b[0m\u001b[1;33m\u001b[0m\u001b[1;33m\u001b[0m\u001b[0m\n",
      "\u001b[1;31mAttributeError\u001b[0m: type object 'Admission' has no attribute 'Hostel_name'"
     ]
    }
   ],
   "source": [
    "class Admission:\n",
    "    school_name = \"KVS High school\"\n",
    "    city = \"Coimbatore\"\n",
    "\n",
    "    def __init__(self,Hostel_name, mark): #constructor\n",
    "        self.Hostel_name = Hostel_name\n",
    "        self.mark = mark\n",
    "    \n",
    "    def Hostel(self):\n",
    "        return \"Hostel allocated\" + \" at \" + self.Hostel_name\n",
    "    \n",
    "    def group_decider(self):\n",
    "        if self.mark > 350:\n",
    "            return \"The group allocated for you is \" + \"bio maths\"\n",
    "        else:\n",
    "            return \"The group allocated for you is \" + \"commerce\"\n",
    "\n",
    "    def Library(self):\n",
    "        return \"Library\"\n",
    "\n",
    "    @classmethod\n",
    "    def FeedBack_form(self):\n",
    "        print(\"please enter your feedback\")\n",
    "        print(self.school_name)\n",
    "        print(self.city)\n",
    "        print(self.Hostel_name)\n",
    "        \n",
    "student1 = Admission(\"Kaveri\", 300) #object attribute\n",
    "student1.FeedBack_form()"
   ]
  },
  {
   "cell_type": "code",
   "execution_count": null,
   "metadata": {},
   "outputs": [],
   "source": []
  },
  {
   "cell_type": "code",
   "execution_count": null,
   "metadata": {},
   "outputs": [],
   "source": [
    "#Types:\n",
    "\n",
    "#"
   ]
  },
  {
   "cell_type": "markdown",
   "metadata": {},
   "source": [
    "## Inheritance"
   ]
  },
  {
   "cell_type": "code",
   "execution_count": 59,
   "metadata": {},
   "outputs": [
    {
     "name": "stdout",
     "output_type": "stream",
     "text": [
      "method from parent func1\n",
      "method from child func2\n"
     ]
    },
    {
     "ename": "AttributeError",
     "evalue": "'child' object has no attribute 'parent_func2'",
     "output_type": "error",
     "traceback": [
      "\u001b[1;31m---------------------------------------------------------------------------\u001b[0m",
      "\u001b[1;31mAttributeError\u001b[0m                            Traceback (most recent call last)",
      "\u001b[1;32m<ipython-input-59-3402affa7f95>\u001b[0m in \u001b[0;36m<module>\u001b[1;34m\u001b[0m\n\u001b[0;32m     27\u001b[0m \u001b[0mobj2\u001b[0m \u001b[1;33m=\u001b[0m \u001b[0mchild\u001b[0m\u001b[1;33m(\u001b[0m\u001b[1;33m)\u001b[0m\u001b[1;33m\u001b[0m\u001b[1;33m\u001b[0m\u001b[0m\n\u001b[0;32m     28\u001b[0m \u001b[0mprint\u001b[0m\u001b[1;33m(\u001b[0m\u001b[0mobj2\u001b[0m\u001b[1;33m.\u001b[0m\u001b[0mchild_func2\u001b[0m\u001b[1;33m(\u001b[0m\u001b[1;33m)\u001b[0m\u001b[1;33m)\u001b[0m\u001b[1;33m\u001b[0m\u001b[1;33m\u001b[0m\u001b[0m\n\u001b[1;32m---> 29\u001b[1;33m \u001b[0mprint\u001b[0m\u001b[1;33m(\u001b[0m\u001b[0mobj2\u001b[0m\u001b[1;33m.\u001b[0m\u001b[0mparent_func2\u001b[0m\u001b[1;33m(\u001b[0m\u001b[1;33m)\u001b[0m\u001b[1;33m)\u001b[0m\u001b[1;33m\u001b[0m\u001b[1;33m\u001b[0m\u001b[0m\n\u001b[0m\u001b[0;32m     30\u001b[0m \u001b[1;33m\u001b[0m\u001b[0m\n",
      "\u001b[1;31mAttributeError\u001b[0m: 'child' object has no attribute 'parent_func2'"
     ]
    }
   ],
   "source": [
    "#Inheritance ==> reuse\n",
    "#From one class ... tring to access another class method and attributes\n",
    "\n",
    "class parent:\n",
    "    var1 = \"mmmmm\"\n",
    "    var2 = \"ggggg\"\n",
    "    \n",
    "    def parent_func1(self):\n",
    "        return \"method from parent func1\"\n",
    "        \n",
    "    def parent_func2(self):\n",
    "        return \"method from parent func2\"\n",
    "    \n",
    "class child:\n",
    "    var3 = \"aaaaa\"\n",
    "    var4 = \"bbbbb\"\n",
    "    \n",
    "    def child_func1(self):\n",
    "        return \"method from child func1\"\n",
    "        \n",
    "    def child_func2(self):\n",
    "        return \"method from child func2\"\n",
    "    \n",
    "obj1 = parent()\n",
    "print(obj1.parent_func1())\n",
    "\n",
    "obj2 = child()\n",
    "print(obj2.child_func2())\n",
    "print(obj2.parent_func2())\n",
    "    \n"
   ]
  },
  {
   "cell_type": "code",
   "execution_count": 58,
   "metadata": {},
   "outputs": [
    {
     "name": "stdout",
     "output_type": "stream",
     "text": [
      "method from parent func1\n",
      "method from child func2\n",
      "method from parent func2\n"
     ]
    }
   ],
   "source": [
    "#Single inheritance\n",
    "\n",
    "class parent:\n",
    "    var1 = \"mmmmm\"\n",
    "    var2 = \"ggggg\"\n",
    "    \n",
    "    def parent_func1(self):\n",
    "        return \"method from parent func1\"\n",
    "        \n",
    "    def parent_func2(self):\n",
    "        return \"method from parent func2\"\n",
    "    \n",
    "class child(parent):\n",
    "    var3 = \"aaaaa\"\n",
    "    var4 = \"bbbbb\"\n",
    "    \n",
    "    def child_func1(self):\n",
    "        return \"method from child func1\"\n",
    "        \n",
    "    def child_func2(self):\n",
    "        return \"method from child func2\"\n",
    "    \n",
    "obj1 = parent()\n",
    "print(obj1.parent_func1())\n",
    "\n",
    "obj2 = child()\n",
    "print(obj2.child_func2())\n",
    "print(obj2.parent_func2())"
   ]
  },
  {
   "cell_type": "code",
   "execution_count": 61,
   "metadata": {},
   "outputs": [
    {
     "name": "stdout",
     "output_type": "stream",
     "text": [
      "method from parent1 func1\n",
      "method from parent1 func2\n",
      "method from parent2 func1\n",
      "method from parent2 func2\n",
      "method from child func1\n",
      "method from child func2\n",
      "method from parent1 func1\n",
      "method from parent1 func2\n",
      "method from parent2 func1\n",
      "method from parent2 func2\n"
     ]
    }
   ],
   "source": [
    "#Multiple Inheritance (Multiple parents for single child)\n",
    "\n",
    "class parent1: #technical support\n",
    "    var1 = \"mmmmm\"\n",
    "    var2 = \"ggggg\"\n",
    "    \n",
    "    def parent1_func1(self):\n",
    "        return \"method from parent1 func1\"\n",
    "        \n",
    "    def parent1_func2(self):\n",
    "        return \"method from parent1 func2\"\n",
    "    \n",
    "class parent2: #customer care\n",
    "    var3 = \"mmmmm\"\n",
    "    var4 = \"ggggg\"\n",
    "    \n",
    "    def parent2_func1(self):\n",
    "        return \"method from parent2 func1\"\n",
    "        \n",
    "    def parent2_func2(self):\n",
    "        return \"method from parent2 func2\"\n",
    "    \n",
    "    \n",
    "class child(parent1, parent2): #finance\n",
    "    var5 = \"aaaaa\"\n",
    "    var6 = \"bbbbb\"\n",
    "    \n",
    "    def child_func1(self):\n",
    "        return \"method from child func1\"\n",
    "        \n",
    "    def child_func2(self):\n",
    "        return \"method from child func2\"\n",
    "    \n",
    "    \n",
    "obj1 = parent1()\n",
    "\n",
    "print(obj1.parent1_func1())\n",
    "print(obj1.parent1_func2())\n",
    "\n",
    "obj2 = parent2()\n",
    "\n",
    "print(obj2.parent2_func1())\n",
    "print(obj2.parent2_func2())\n",
    "\n",
    "obj3 = child()\n",
    "print(obj3.child_func1())\n",
    "print(obj3.child_func2())\n",
    "print(obj3.parent1_func1())\n",
    "print(obj3.parent1_func2())\n",
    "print(obj3.parent2_func1())\n",
    "print(obj3.parent2_func2())"
   ]
  },
  {
   "cell_type": "code",
   "execution_count": null,
   "metadata": {},
   "outputs": [],
   "source": [
    "#Hierarchical Inheritance (single parent for multiple child)\n",
    "\n",
    "class parent: #Id card providing team\n",
    "    var1 = \"mmmmm\"\n",
    "    var2 = \"ggggg\"\n",
    "    \n",
    "    def parent_func1(self):\n",
    "        return \"method from parent func1\"\n",
    "        \n",
    "    def parent_func2(self):\n",
    "        return \"method from parent func2\"\n",
    "    \n",
    "class child1(parent): #finance\n",
    "    var3 = \"mmmmm\"\n",
    "    var4 = \"ggggg\"\n",
    "    \n",
    "    def child1_func1(self):\n",
    "        return \"method from child1 func1\"\n",
    "        \n",
    "    def child1_func2(self):\n",
    "        return \"method from child1 func2\"\n",
    "    \n",
    "    \n",
    "class child2(parent): #tech support\n",
    "    var5 = \"aaaaa\"\n",
    "    var6 = \"bbbbb\"\n",
    "    \n",
    "    def child2_func1(self):\n",
    "        return \"method from child2 func1\"\n",
    "        \n",
    "    def child2_func2(self):\n",
    "        return \"method from child2 func2\"\n",
    "    \n",
    "    \n",
    "obj1 = parent()\n",
    "\n",
    "print(obj1.parent_func1())\n",
    "print(obj1.parent_func2())\n",
    "\n",
    "obj2 = child1()\n",
    "\n",
    "print(obj2.child1_func1())\n",
    "print(obj2.child1_func2())\n",
    "print(obj2.parent_func1())\n",
    "print(obj2.parent_func2())\n",
    "\n",
    "obj3 = child2()\n",
    "print(obj3.child2_func1())\n",
    "print(obj3.child2_func2())\n",
    "print(obj3.parent_func1())\n",
    "print(obj3.parent_func2())"
   ]
  },
  {
   "cell_type": "code",
   "execution_count": null,
   "metadata": {},
   "outputs": [],
   "source": [
    "#Multilevel inheritance\n",
    "\n",
    "class grandparent: #Interview round 1\n",
    "    var1 = \"mmmmm\"\n",
    "    var2 = \"ggggg\"\n",
    "    \n",
    "    def grandparent_func1(self):\n",
    "        return \"method from grandparent func1\"\n",
    "        \n",
    "    def grandparent_func2(self):\n",
    "        return \"method from grandparent func2\"\n",
    "    \n",
    "class parent(grandparent): #Manager round\n",
    "    var3 = \"mmmmm\"\n",
    "    var4 = \"ggggg\"\n",
    "    \n",
    "    def parent_func1(self):\n",
    "        return \"method from parent func1\"\n",
    "        \n",
    "    def parent_func2(self):\n",
    "        return \"method from parent func2\"\n",
    "    \n",
    "    \n",
    "class child(parent): #Offer or CEO\n",
    "    var5 = \"aaaaa\"\n",
    "    var6 = \"bbbbb\"\n",
    "    \n",
    "    def child_func1(self):\n",
    "        return \"method from child func1\"\n",
    "        \n",
    "    def child_func2(self):\n",
    "        return \"method from child func2\"\n",
    "    \n",
    "    \n",
    "obj1 = grandparent()\n",
    "\n",
    "print(obj1.grandparent_func1())\n",
    "print(obj1.grandparent_func2())\n",
    "\n",
    "obj2 = parent2()\n",
    "\n",
    "print(obj2.parent_func1())\n",
    "print(obj2.parent_func2())\n",
    "print(obj2.grandparent_func1())\n",
    "print(obj2.grandparent_func2())\n",
    "\n",
    "obj3 = child()\n",
    "print(obj3.child_func1())\n",
    "print(obj3.child_func2())\n",
    "print(obj3.parent_func1())\n",
    "print(obj3.parent_func2())\n",
    "print(obj3.grandparent_func1())\n",
    "print(obj3.grandparent_func2())\n"
   ]
  },
  {
   "cell_type": "code",
   "execution_count": null,
   "metadata": {},
   "outputs": [],
   "source": [
    "#Hybrid ?\n",
    "https://www.geeksforgeeks.org/types-of-inheritance-python/?ref=lbp"
   ]
  }
 ],
 "metadata": {
  "kernelspec": {
   "display_name": "Python 3",
   "language": "python",
   "name": "python3"
  },
  "language_info": {
   "codemirror_mode": {
    "name": "ipython",
    "version": 3
   },
   "file_extension": ".py",
   "mimetype": "text/x-python",
   "name": "python",
   "nbconvert_exporter": "python",
   "pygments_lexer": "ipython3",
   "version": "3.7.6"
  }
 },
 "nbformat": 4,
 "nbformat_minor": 4
}
