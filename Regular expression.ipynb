{
 "cells": [
  {
   "cell_type": "code",
   "execution_count": null,
   "metadata": {},
   "outputs": [],
   "source": [
    "#Regular expression ==> pattern identification\n",
    "\n",
    "#https://www.programiz.com/python-programming/regex\n",
    "#https://regex101.com/\n",
    "\n",
    "\n",
    "#why ?\n",
    "\n",
    "#resume uploaded \n",
    "\n",
    "+91-999999999 ==> mobile\n",
    ".*@(gmail|yahoo|hotmail).com ==< mail \n",
    "\n",
    "\n",
    "1. how to write regex\n",
    "2. python(main string , regex pattern) ===> expected result\n",
    "\n",
    "\n",
    "\n"
   ]
  },
  {
   "cell_type": "code",
   "execution_count": null,
   "metadata": {},
   "outputs": [],
   "source": [
    "\\d\n",
    "\\D\n",
    "\\s\n",
    "\\S\n",
    "\\w\n",
    "\\W\n",
    "\\b\n",
    "\\B\n",
    "\\A\n",
    "\\Z\n",
    "\n",
    "[] ==> single char/special/digit\n",
    "[A-Za-z0-9]\n",
    "[^]\n",
    ". ==> everything except \\n single\n",
    "^..$\n",
    "Quantifiers:\n",
    "* 0 or more\n",
    "+ 1 or more\n",
    "? 0 or 1\n",
    "{} exact match count\n",
    "\n",
    "\n",
    "(|)"
   ]
  },
  {
   "cell_type": "code",
   "execution_count": null,
   "metadata": {},
   "outputs": [],
   "source": [
    "#write a regex\n",
    "50 to 89"
   ]
  },
  {
   "cell_type": "code",
   "execution_count": 1,
   "metadata": {},
   "outputs": [],
   "source": [
    "import re"
   ]
  },
  {
   "cell_type": "code",
   "execution_count": 9,
   "metadata": {},
   "outputs": [
    {
     "name": "stdout",
     "output_type": "stream",
     "text": [
      "['3', '4', '500']\n"
     ]
    }
   ],
   "source": [
    "#findall\n",
    "\n",
    "\n",
    "main_string = \"i have 3 dogs and 4 cats with 500 fishes\"\n",
    "pattern = \"\\d+\"\n",
    "\n",
    "val = re.findall(pattern,main_string)\n",
    "print(val)\n"
   ]
  },
  {
   "cell_type": "code",
   "execution_count": 11,
   "metadata": {},
   "outputs": [
    {
     "name": "stdout",
     "output_type": "stream",
     "text": [
      "['i have ', ' dogs and ', ' cats with ', ' fishes']\n"
     ]
    }
   ],
   "source": [
    "#split\n",
    "\n",
    "main_string = \"i have 3 dogs and 4 cats with 500 fishes\"\n",
    "pattern = \"\\d+\"\n",
    "\n",
    "val = re.split(pattern,main_string)\n",
    "print(val)"
   ]
  },
  {
   "cell_type": "code",
   "execution_count": 14,
   "metadata": {},
   "outputs": [
    {
     "name": "stdout",
     "output_type": "stream",
     "text": [
      "i have 00000 dogs and 00000 cats with 00000 fishes\n"
     ]
    }
   ],
   "source": [
    "#sub\n",
    "\n",
    "main_string = \"i have 3 dogs and 4 cats with 500 fishes\"\n",
    "pattern = \"\\d+\"\n",
    "sub = \"00000\"\n",
    "\n",
    "val = re.sub(pattern,sub,main_string)\n",
    "print(val)"
   ]
  },
  {
   "cell_type": "code",
   "execution_count": 13,
   "metadata": {},
   "outputs": [
    {
     "name": "stdout",
     "output_type": "stream",
     "text": [
      "('i have * dogs and * cats with * fishes', 3)\n"
     ]
    }
   ],
   "source": [
    "#subn\n",
    "\n",
    "main_string = \"i have 3 dogs and 4 cats with 500 fishes\"\n",
    "pattern = \"\\d+\"\n",
    "sub = \"*\"\n",
    "\n",
    "val = re.subn(pattern,sub,main_string)\n",
    "print(val)"
   ]
  },
  {
   "cell_type": "code",
   "execution_count": 23,
   "metadata": {},
   "outputs": [
    {
     "name": "stdout",
     "output_type": "stream",
     "text": [
      "04-12-2021\n",
      "04\n",
      "2021\n",
      "(14, 24)\n",
      "14\n",
      "24\n",
      "<re.Match object; span=(14, 24), match='04-12-2021'>\n"
     ]
    }
   ],
   "source": [
    "#search\n",
    "\n",
    "main_string = \"today date is 04-12-2021 and tomorrow date is 05-12-2021 and a my phone number is 99999999999\"\n",
    "\n",
    "pattern = \"(\\d{2})-\\d{2}-(\\d{4})\"\n",
    "\n",
    "val = re.search(pattern,main_string)\n",
    "print(val.group())\n",
    "print(val.group(1))\n",
    "print(val.group(2))\n",
    "print(val.span())\n",
    "print(val.start())\n",
    "print(val.end())\n",
    "print(val)"
   ]
  },
  {
   "cell_type": "code",
   "execution_count": null,
   "metadata": {},
   "outputs": [],
   "source": []
  },
  {
   "cell_type": "code",
   "execution_count": null,
   "metadata": {},
   "outputs": [],
   "source": []
  }
 ],
 "metadata": {
  "kernelspec": {
   "display_name": "Python 3",
   "language": "python",
   "name": "python3"
  },
  "language_info": {
   "codemirror_mode": {
    "name": "ipython",
    "version": 3
   },
   "file_extension": ".py",
   "mimetype": "text/x-python",
   "name": "python",
   "nbconvert_exporter": "python",
   "pygments_lexer": "ipython3",
   "version": "3.7.6"
  }
 },
 "nbformat": 4,
 "nbformat_minor": 4
}
