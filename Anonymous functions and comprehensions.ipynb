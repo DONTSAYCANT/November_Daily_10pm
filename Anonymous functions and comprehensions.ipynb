{
 "cells": [
  {
   "cell_type": "code",
   "execution_count": 1,
   "metadata": {},
   "outputs": [
    {
     "name": "stdout",
     "output_type": "stream",
     "text": [
      "1000\n"
     ]
    }
   ],
   "source": [
    "#Anonymous funtion\n",
    "g = lambda x : x ** 3\n",
    "print(g(10))"
   ]
  },
  {
   "cell_type": "code",
   "execution_count": 5,
   "metadata": {},
   "outputs": [
    {
     "name": "stdout",
     "output_type": "stream",
     "text": [
      "1000\n"
     ]
    }
   ],
   "source": [
    "def g_func(x):\n",
    "    return x ** 3\n",
    "print(g_func(10))"
   ]
  },
  {
   "cell_type": "code",
   "execution_count": 8,
   "metadata": {},
   "outputs": [
    {
     "name": "stdout",
     "output_type": "stream",
     "text": [
      "[2.0, 3.0, 4.0, 5.0, 6.0, 7.0, 8.0]\n"
     ]
    }
   ],
   "source": [
    "#map\n",
    "\n",
    "Li1 = [\"2\",\"3\",\"4\",\"5\",\"6\",\"7\",\"8\"]\n",
    "\n",
    "#map(functionality, Data struct)\n",
    "\n",
    "Li2 = list(map(float,Li1))\n",
    "print(Li2)\n"
   ]
  },
  {
   "cell_type": "code",
   "execution_count": 12,
   "metadata": {},
   "outputs": [
    {
     "name": "stdout",
     "output_type": "stream",
     "text": [
      "[8.0, 27.0, 64.0, 125.0, 216.0, 343.0, 512.0]\n"
     ]
    }
   ],
   "source": [
    "\n",
    "Li1 = [2.0, 3.0, 4.0, 5.0, 6.0, 7.0, 8.0]\n",
    "\n",
    "#map(functionality, Data struct)\n",
    "\n",
    "Li2 = list(map(g_func,Li1))\n",
    "print(Li2)"
   ]
  },
  {
   "cell_type": "code",
   "execution_count": 10,
   "metadata": {},
   "outputs": [
    {
     "name": "stdout",
     "output_type": "stream",
     "text": [
      "[8.0, 27.0, 64.0, 125.0, 216.0, 343.0, 512.0]\n"
     ]
    }
   ],
   "source": [
    "Li1 = [2.0, 3.0, 4.0, 5.0, 6.0, 7.0, 8.0]\n",
    "\n",
    "#map(functionality, Data struct)\n",
    "\n",
    "Li2 = list(map(lambda x : x ** 3,Li1))\n",
    "print(Li2)\n"
   ]
  },
  {
   "cell_type": "code",
   "execution_count": null,
   "metadata": {},
   "outputs": [],
   "source": []
  },
  {
   "cell_type": "code",
   "execution_count": 16,
   "metadata": {},
   "outputs": [
    {
     "name": "stdout",
     "output_type": "stream",
     "text": [
      "[2.0, 4.0, 6.0, 8.0]\n"
     ]
    }
   ],
   "source": [
    "#filter\n",
    "\n",
    "\n",
    "def even_check(x):\n",
    "    return x % 2 == 0\n",
    "\n",
    "Li2 = list(filter(even_check,Li1))\n",
    "print(Li2)\n"
   ]
  },
  {
   "cell_type": "code",
   "execution_count": 17,
   "metadata": {},
   "outputs": [
    {
     "name": "stdout",
     "output_type": "stream",
     "text": [
      "[2.0, 4.0, 6.0, 8.0]\n"
     ]
    }
   ],
   "source": [
    "#filter\n",
    "\n",
    "\n",
    "def even_check(x):\n",
    "    return x % 2 == 0\n",
    "\n",
    "Li2 = list(filter(lambda x : x % 2 == 0,Li1))\n",
    "print(Li2)"
   ]
  },
  {
   "cell_type": "code",
   "execution_count": 19,
   "metadata": {},
   "outputs": [
    {
     "name": "stdout",
     "output_type": "stream",
     "text": [
      "9583200\n"
     ]
    }
   ],
   "source": [
    "#reduce\n",
    "\n",
    "from functools import reduce\n",
    "\n",
    "Li1 = [1,3,4,5,5,44,33,22]\n",
    "\n",
    "val = reduce(lambda x,y:x*y, Li1)\n",
    "print(val)"
   ]
  },
  {
   "cell_type": "code",
   "execution_count": null,
   "metadata": {},
   "outputs": [],
   "source": []
  }
 ],
 "metadata": {
  "kernelspec": {
   "display_name": "Python 3",
   "language": "python",
   "name": "python3"
  },
  "language_info": {
   "codemirror_mode": {
    "name": "ipython",
    "version": 3
   },
   "file_extension": ".py",
   "mimetype": "text/x-python",
   "name": "python",
   "nbconvert_exporter": "python",
   "pygments_lexer": "ipython3",
   "version": "3.7.6"
  }
 },
 "nbformat": 4,
 "nbformat_minor": 4
}
