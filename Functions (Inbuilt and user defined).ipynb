{
 "cells": [
  {
   "cell_type": "code",
   "execution_count": null,
   "metadata": {},
   "outputs": [],
   "source": [
    "#Functions\n",
    "\n",
    "#1000 \n",
    "\n",
    "#space/storage/time\n",
    "\n",
    "\n",
    "#For reducing repetitive code in the main program\n",
    "\n",
    "#inbuilt function\n",
    "#User def functions\n",
    "\n",
    "\n",
    "#Function call\n",
    "#Function def\n",
    "#parameter or argument\n",
    "#return \n",
    "#optional parameter\n"
   ]
  },
  {
   "cell_type": "code",
   "execution_count": 1,
   "metadata": {},
   "outputs": [
    {
     "name": "stdout",
     "output_type": "stream",
     "text": [
      "hello\n"
     ]
    }
   ],
   "source": [
    "print(\"hello\") #function call"
   ]
  },
  {
   "cell_type": "code",
   "execution_count": 4,
   "metadata": {},
   "outputs": [
    {
     "name": "stdout",
     "output_type": "stream",
     "text": [
      "The argument 3 is  10\n",
      "pngy\n"
     ]
    }
   ],
   "source": [
    "def function_explanation(arg1, arg2,arg4): #function definition\n",
    "    arg3 = arg1[0] + arg1[-1] + arg2[0] + arg2[-1]\n",
    "    print(\"The argument 3 is \", arg4)\n",
    "    return arg3\n",
    "\n",
    "print(function_explanation(\"python\",\"groovy\",10))"
   ]
  },
  {
   "cell_type": "code",
   "execution_count": 7,
   "metadata": {},
   "outputs": [
    {
     "name": "stdout",
     "output_type": "stream",
     "text": [
      "(15, 5, 50, 2.0)\n"
     ]
    }
   ],
   "source": [
    "def sum_sub(val1,val2):\n",
    "    return val1+val2 , val1-val2, val1*val2, val1/val2\n",
    "\n",
    "print(sum_sub(10,5))\n",
    "\n"
   ]
  },
  {
   "cell_type": "code",
   "execution_count": 17,
   "metadata": {},
   "outputs": [
    {
     "name": "stdout",
     "output_type": "stream",
     "text": [
      "<class 'list'>\n",
      "2099\n",
      "None\n",
      "<class 'str'>\n",
      "pn\n",
      "None\n"
     ]
    }
   ],
   "source": [
    "def list_arg(val):\n",
    "    print(type(val))\n",
    "    print(val[0]+val[-1])\n",
    "\n",
    "print(list_arg([100,200,300,1200,500,1999]))\n",
    "print(list_arg(\"python\"))\n",
    "#print(list_arg(100))"
   ]
  },
  {
   "cell_type": "code",
   "execution_count": null,
   "metadata": {},
   "outputs": [],
   "source": [
    "#return:\n",
    "\n",
    "last line executed by the function\n",
    "#by default: none"
   ]
  },
  {
   "cell_type": "code",
   "execution_count": 18,
   "metadata": {},
   "outputs": [
    {
     "name": "stdout",
     "output_type": "stream",
     "text": [
      "hello1\n",
      "hello2\n",
      "hello3\n"
     ]
    }
   ],
   "source": [
    "print(\"hello1\")\n",
    "print(\"hello2\")\n",
    "print(\"hello3\")"
   ]
  },
  {
   "cell_type": "code",
   "execution_count": 14,
   "metadata": {},
   "outputs": [
    {
     "name": "stdout",
     "output_type": "stream",
     "text": [
      "hello\thello1\n",
      "\n",
      "hello2\n"
     ]
    }
   ],
   "source": [
    "print(\"hello\", end=\"\\t\")\n",
    "print(\"hello1\",end=\"\\n\\n\")\n",
    "print(\"hello2\")"
   ]
  },
  {
   "cell_type": "code",
   "execution_count": 15,
   "metadata": {},
   "outputs": [
    {
     "name": "stdout",
     "output_type": "stream",
     "text": [
      "hello**4**5**6**world\n"
     ]
    }
   ],
   "source": [
    "print(\"hello\",4,5,6,\"world\",sep=\"**\")"
   ]
  },
  {
   "cell_type": "code",
   "execution_count": 23,
   "metadata": {},
   "outputs": [
    {
     "name": "stdout",
     "output_type": "stream",
     "text": [
      "hello\n",
      "60\n",
      "hello\n",
      "160\n"
     ]
    },
    {
     "data": {
      "text/plain": [
       "160"
      ]
     },
     "execution_count": 23,
     "metadata": {},
     "output_type": "execute_result"
    }
   ],
   "source": [
    "def sum_val(val1,val2,val3=100):\n",
    "    print(\"hello\")\n",
    "    return val1 + val2 + val3\n",
    "\n",
    "print(sum_val(10,20,30))\n",
    "print(sum_val(10,50))\n"
   ]
  },
  {
   "cell_type": "code",
   "execution_count": 21,
   "metadata": {},
   "outputs": [
    {
     "name": "stdout",
     "output_type": "stream",
     "text": [
      "10\n"
     ]
    }
   ],
   "source": [
    "def sum_vall(x: int):\n",
    "    return x\n",
    "\n",
    "print(sum_vall(10))"
   ]
  },
  {
   "cell_type": "code",
   "execution_count": null,
   "metadata": {},
   "outputs": [],
   "source": [
    "#print\n",
    "#type\n",
    "#len\n",
    "#sum\n",
    "#min\n",
    "#max\n",
    "#int\n",
    "#float\n",
    "#str\n",
    "#bool\n",
    "#list\n",
    "#tuple\n",
    "#set\n",
    "#dict\n",
    "#range\n",
    "#format\n",
    "\n",
    "#any Or gate\n",
    "#all AND gate\n",
    "#zip\n",
    "#chr\n",
    "#ord\n",
    "#bin\n",
    "#hex\n",
    "#oct\n",
    "#\n"
   ]
  },
  {
   "cell_type": "code",
   "execution_count": null,
   "metadata": {},
   "outputs": [],
   "source": [
    "https://www.w3schools.com/python/python_ref_functions.asp"
   ]
  },
  {
   "cell_type": "code",
   "execution_count": 24,
   "metadata": {},
   "outputs": [
    {
     "name": "stdout",
     "output_type": "stream",
     "text": [
      "The addition of 10 and 30 is 40\n"
     ]
    }
   ],
   "source": [
    "a = 10\n",
    "b = 30\n",
    "\n",
    "c = a+b\n",
    "print(\"The addition of {} and {} is {}\".format(a,b,c))\n",
    "\n",
    "%2f"
   ]
  },
  {
   "cell_type": "code",
   "execution_count": 25,
   "metadata": {},
   "outputs": [
    {
     "name": "stdout",
     "output_type": "stream",
     "text": [
      "True\n"
     ]
    }
   ],
   "source": [
    "print(any([True, True, False]))"
   ]
  },
  {
   "cell_type": "code",
   "execution_count": 26,
   "metadata": {},
   "outputs": [
    {
     "name": "stdout",
     "output_type": "stream",
     "text": [
      "False\n"
     ]
    }
   ],
   "source": [
    "print(all([True, True, False]))"
   ]
  },
  {
   "cell_type": "code",
   "execution_count": 29,
   "metadata": {},
   "outputs": [
    {
     "name": "stdout",
     "output_type": "stream",
     "text": [
      "False\n"
     ]
    }
   ],
   "source": [
    "a = 10\n",
    "\n",
    "print(all([a > 5, a<10, a != 5]))"
   ]
  },
  {
   "cell_type": "code",
   "execution_count": 32,
   "metadata": {},
   "outputs": [
    {
     "name": "stdout",
     "output_type": "stream",
     "text": [
      "0b11111111\n",
      "0o377\n",
      "0xff\n"
     ]
    }
   ],
   "source": [
    "a = 255\n",
    "\n",
    "print(bin(a))\n",
    "print(oct(a))\n",
    "print(hex(a))"
   ]
  },
  {
   "cell_type": "code",
   "execution_count": 37,
   "metadata": {},
   "outputs": [
    {
     "name": "stdout",
     "output_type": "stream",
     "text": [
      "[(2, 'hello'), (3, 'ggg'), (4, 'fff'), (5, 'iii')]\n"
     ]
    }
   ],
   "source": [
    "Li1 = [2,3,4,5,6]\n",
    "Li2 = [\"hello\",\"ggg\",\"fff\",'iii']\n",
    "\n",
    "val = list(zip(Li1,Li2))\n",
    "print(val)"
   ]
  },
  {
   "cell_type": "code",
   "execution_count": null,
   "metadata": {},
   "outputs": [],
   "source": []
  }
 ],
 "metadata": {
  "kernelspec": {
   "display_name": "Python 3",
   "language": "python",
   "name": "python3"
  },
  "language_info": {
   "codemirror_mode": {
    "name": "ipython",
    "version": 3
   },
   "file_extension": ".py",
   "mimetype": "text/x-python",
   "name": "python",
   "nbconvert_exporter": "python",
   "pygments_lexer": "ipython3",
   "version": "3.7.6"
  }
 },
 "nbformat": 4,
 "nbformat_minor": 4
}
